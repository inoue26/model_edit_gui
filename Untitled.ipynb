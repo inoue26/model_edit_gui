{
 "cells": [
  {
   "cell_type": "code",
   "execution_count": 1,
   "metadata": {},
   "outputs": [
    {
     "name": "stderr",
     "output_type": "stream",
     "text": [
      "Using TensorFlow backend.\n"
     ]
    }
   ],
   "source": [
    "from keras.models import Model\n",
    "from keras.layers import Input, Dense\n",
    "from keras.layers.wrappers import Wrapper\n",
    "import pydot"
   ]
  },
  {
   "cell_type": "code",
   "execution_count": 2,
   "metadata": {},
   "outputs": [],
   "source": [
    "input_ = Input(shape=(3,))\n",
    "dense0 = Dense(3, name = 'dense0')\n",
    "dense1 = Dense(3, name = 'dense1')"
   ]
  },
  {
   "cell_type": "code",
   "execution_count": 3,
   "metadata": {},
   "outputs": [
    {
     "name": "stdout",
     "output_type": "stream",
     "text": [
      "WARNING:tensorflow:From /Users/araya/keras_env/lib/python3.7/site-packages/tensorflow/python/framework/op_def_library.py:263: colocate_with (from tensorflow.python.framework.ops) is deprecated and will be removed in a future version.\n",
      "Instructions for updating:\n",
      "Colocations handled automatically by placer.\n"
     ]
    }
   ],
   "source": [
    "h = dense0(input_)\n",
    "h = dense0(h) \n",
    "output_ = dense1(h)\n",
    "\n",
    "model = Model(input_, output_)"
   ]
  },
  {
   "cell_type": "code",
   "execution_count": 4,
   "metadata": {},
   "outputs": [
    {
     "data": {
      "text/plain": [
       "{'dense0_ib-0', 'dense0_ib-1', 'dense1_ib-0', 'input_1_ib-0'}"
      ]
     },
     "execution_count": 4,
     "metadata": {},
     "output_type": "execute_result"
    }
   ],
   "source": [
    "model._network_nodes"
   ]
  },
  {
   "cell_type": "code",
   "execution_count": 5,
   "metadata": {},
   "outputs": [],
   "source": [
    "def get_nodes_edges(model, show_layer_names=True):\n",
    "    \n",
    "    dot = pydot.Dot()\n",
    "    dot.set('rankdir', 'TB')\n",
    "    dot.set('concentrate', True)\n",
    "    dot.set('dpi', 96)\n",
    "    dot.set_node_defaults(shape='record')\n",
    "    sub_n_first_node = {}\n",
    "    sub_n_last_node = {}\n",
    "    sub_w_first_node = {}\n",
    "    sub_w_last_node = {}\n",
    "\n",
    "    layers = model._layers\n",
    "    # Create graph nodes.\n",
    "    for i, layer in enumerate(layers):\n",
    "        layer_id = str(id(layer))\n",
    "        # Append a wrapped layer's label to node's label, if it exists.\n",
    "        # ignore model in model.\n",
    "        layer_name = layer.name\n",
    "        class_name = layer.__class__.__name__\n",
    "        if isinstance(layer, Wrapper):\n",
    "            layer_name = '{}({})'.format(layer_name, layer.layer.name)\n",
    "            child_class_name = layer.layer.__class__.__name__\n",
    "            class_name = '{}({})'.format(class_name, child_class_name)\n",
    "        \n",
    "        # Create node's label.\n",
    "        if show_layer_names:\n",
    "            label = '{}: {}'.format(layer_name, class_name)\n",
    "        else:\n",
    "            label = class_name\n",
    "        try:\n",
    "            outputlabels = str(layer.output_shape)\n",
    "        except AttributeError:\n",
    "            outputlabels = 'multiple'\n",
    "        if hasattr(layer, 'input_shape'):\n",
    "            inputlabels = str(layer.input_shape)\n",
    "        elif hasattr(layer, 'input_shapes'):\n",
    "            inputlabels = ', '.join(\n",
    "                (str(ishape) for ishape in layer.input_shapes))\n",
    "        else:\n",
    "            inputlabels = 'multiple'\n",
    "        label = '%s\\n|{input:|output:}|{{%s}|{%s}}' % (label,\n",
    "                                                        inputlabels,\n",
    "                                                        outputlabels)\n",
    "        node = pydot.Node(layer_id, label=label)\n",
    "        dot.add_node(node)\n",
    "    for layer in layers:\n",
    "        # objectの持つ番号を取得\n",
    "        layer_id = str(id(layer))\n",
    "        for i, node in enumerate(layer._inbound_nodes):\n",
    "            # layerが持つnodeに対しても以下のformatで名前がついている\n",
    "            node_key = layer.name + '_ib-' + str(i)\n",
    "            if node_key in model._network_nodes:\n",
    "                for inbound_layer in node.inbound_layers:\n",
    "                    inbound_layer_id = str(id(inbound_layer))\n",
    "                    # graphにinbound_layerが登録されているか確認\n",
    "                    assert dot.get_node(inbound_layer_id)\n",
    "                    assert dot.get_node(layer_id)\n",
    "                    # graphにedgeを登録\n",
    "                    dot.add_edge(pydot.Edge(inbound_layer_id, layer_id))\n",
    "    return dot"
   ]
  },
  {
   "cell_type": "code",
   "execution_count": 26,
   "metadata": {},
   "outputs": [
    {
     "data": {
      "text/plain": [
       "True"
      ]
     },
     "execution_count": 26,
     "metadata": {},
     "output_type": "execute_result"
    }
   ],
   "source": [
    "dot = get_nodes_edges(model)\n",
    "dot.write('./model.png', format='png')"
   ]
  },
  {
   "cell_type": "code",
   "execution_count": 52,
   "metadata": {},
   "outputs": [
    {
     "data": {
      "text/plain": [
       "{'attributes': {'rankdir': 'TB', 'concentrate': True, 'dpi': 96},\n",
       " 'name': 'G',\n",
       " 'type': 'digraph',\n",
       " 'strict': False,\n",
       " 'suppress_disconnected': False,\n",
       " 'simplify': False,\n",
       " 'current_child_sequence': 8,\n",
       " 'nodes': {'node': [{'attributes': {'shape': 'record'},\n",
       "    'type': 'node',\n",
       "    'parent_graph': <pydot.Dot at 0x11df97048>,\n",
       "    'parent_node_list': None,\n",
       "    'sequence': 1,\n",
       "    'name': 'node',\n",
       "    'port': None}],\n",
       "  '4795137944': [{'attributes': {'label': 'input_1: InputLayer\\n|{input:|output:}|{{(None, 3)}|{(None, 3)}}'},\n",
       "    'type': 'node',\n",
       "    'parent_graph': <pydot.Dot at 0x11df97048>,\n",
       "    'parent_node_list': None,\n",
       "    'sequence': 2,\n",
       "    'name': '4795137944',\n",
       "    'port': None}],\n",
       "  '4795137888': [{'attributes': {'label': 'dense0: Dense\\n|{input:|output:}|{{(None, 3)}|{(None, 3)}}'},\n",
       "    'type': 'node',\n",
       "    'parent_graph': <pydot.Dot at 0x11df97048>,\n",
       "    'parent_node_list': None,\n",
       "    'sequence': 3,\n",
       "    'name': '4795137888',\n",
       "    'port': None}],\n",
       "  '4795196248': [{'attributes': {'label': 'dense1: Dense\\n|{input:|output:}|{{(None, 3)}|{(None, 3)}}'},\n",
       "    'type': 'node',\n",
       "    'parent_graph': <pydot.Dot at 0x11df97048>,\n",
       "    'parent_node_list': None,\n",
       "    'sequence': 4,\n",
       "    'name': '4795196248',\n",
       "    'port': None}]},\n",
       " 'edges': {('4795137944',\n",
       "   '4795137888'): [{'points': ('4795137944', '4795137888'),\n",
       "    'attributes': {},\n",
       "    'type': 'edge',\n",
       "    'parent_graph': <pydot.Dot at 0x11df97048>,\n",
       "    'parent_edge_list': None,\n",
       "    'sequence': 5}],\n",
       "  ('4795137888',\n",
       "   '4795137888'): [{'points': ('4795137888', '4795137888'),\n",
       "    'attributes': {},\n",
       "    'type': 'edge',\n",
       "    'parent_graph': <pydot.Dot at 0x11df97048>,\n",
       "    'parent_edge_list': None,\n",
       "    'sequence': 6}],\n",
       "  ('4795137888',\n",
       "   '4795196248'): [{'points': ('4795137888', '4795196248'),\n",
       "    'attributes': {},\n",
       "    'type': 'edge',\n",
       "    'parent_graph': <pydot.Dot at 0x11df97048>,\n",
       "    'parent_edge_list': None,\n",
       "    'sequence': 7}]},\n",
       " 'subgraphs': {},\n",
       " 'parent_graph': <pydot.Dot at 0x11df97048>}"
      ]
     },
     "execution_count": 52,
     "metadata": {},
     "output_type": "execute_result"
    }
   ],
   "source": [
    "dot.obj_dict"
   ]
  },
  {
   "cell_type": "code",
   "execution_count": null,
   "metadata": {},
   "outputs": [],
   "source": [
    "print(dir(dot))"
   ]
  },
  {
   "cell_type": "code",
   "execution_count": 7,
   "metadata": {},
   "outputs": [],
   "source": [
    "edge_list = dot.get_edge_list()\n",
    "layout = dot.get_layout()\n",
    "label = dot.get_label()\n",
    "node_list = dot.get_node_list()"
   ]
  },
  {
   "cell_type": "code",
   "execution_count": 8,
   "metadata": {},
   "outputs": [
    {
     "name": "stdout",
     "output_type": "stream",
     "text": [
      "edge 4795137944 -> 4795137888;\n",
      "edge 4795137888 -> 4795137888;\n",
      "edge 4795137888 -> 4795196248;\n",
      "layout None\n",
      "label None\n",
      "node node [shape=record];\n",
      "pos None\n",
      "node 4795137944 [label=\"input_1: InputLayer\\n|{input:|output:}|{{(None, 3)}|{(None, 3)}}\"];\n",
      "pos None\n",
      "node 4795137888 [label=\"dense0: Dense\\n|{input:|output:}|{{(None, 3)}|{(None, 3)}}\"];\n",
      "pos None\n",
      "node 4795196248 [label=\"dense1: Dense\\n|{input:|output:}|{{(None, 3)}|{(None, 3)}}\"];\n",
      "pos None\n"
     ]
    }
   ],
   "source": [
    "for edge in edge_list:\n",
    "    print('edge', edge)\n",
    "print('layout',layout)\n",
    "print('label', layout)\n",
    "for node in node_list:\n",
    "    print('node', node)\n",
    "    print('pos', node.get_pos())\n",
    "    "
   ]
  },
  {
   "cell_type": "code",
   "execution_count": 24,
   "metadata": {},
   "outputs": [
    {
     "name": "stdout",
     "output_type": "stream",
     "text": [
      "digraph G {\n",
      "concentrate=True;\n",
      "dpi=96;\n",
      "rankdir=TB;\n",
      "node [shape=record];\n",
      "4795137944 [label=\"input_1: InputLayer\\n|{input:|output:}|{{(None, 3)}|{(None, 3)}}\"];\n",
      "4795137888 [label=\"dense0: Dense\\n|{input:|output:}|{{(None, 3)}|{(None, 3)}}\"];\n",
      "4795196248 [label=\"dense1: Dense\\n|{input:|output:}|{{(None, 3)}|{(None, 3)}}\"];\n",
      "4795137944 -> 4795137888;\n",
      "4795137888 -> 4795137888;\n",
      "4795137888 -> 4795196248;\n",
      "}\n",
      "\n",
      "<class 'bytes'>\n",
      "digraph G {\n",
      "concentrate=True;\n",
      "dpi=96;\n",
      "rankdir=TB;\n",
      "node [shape=record];\n",
      "4795137944 [label=\"input_1: InputLayer\\n|{input:|output:}|{{(None, 3)}|{(None, 3)}}\"];\n",
      "4795137888 [label=\"dense0: Dense\\n|{input:|output:}|{{(None, 3)}|{(None, 3)}}\"];\n",
      "4795196248 [label=\"dense1: Dense\\n|{input:|output:}|{{(None, 3)}|{(None, 3)}}\"];\n",
      "4795137944 -> 4795137888;\n",
      "4795137888 -> 4795137888;\n",
      "4795137888 -> 4795196248;\n",
      "}\n",
      "\n",
      "dot\n"
     ]
    },
    {
     "data": {
      "text/plain": [
       "str"
      ]
     },
     "execution_count": 24,
     "metadata": {},
     "output_type": "execute_result"
    }
   ],
   "source": [
    "import io\n",
    "s = dot.to_string()\n",
    "print(s)\n",
    "# raw 形式\n",
    "with io.open('raw_image.png', mode='wt', encoding=None) as f:\n",
    "    f.write(s)\n",
    "# ここがグラフを描画する直前\n",
    "img = dot.create('dot', 'png', encoding=None)\n",
    "print(type(img)) # png形式\n",
    "\"\"\"\n",
    "with io.open('image_test.png', 'wb') as f:\n",
    "    f.write(img)\n",
    "\"\"\"\n",
    "s_after = dot.to_string()\n",
    "print(s_after)\n",
    "\n"
   ]
  },
  {
   "cell_type": "code",
   "execution_count": 43,
   "metadata": {},
   "outputs": [
    {
     "name": "stdout",
     "output_type": "stream",
     "text": [
      "[{'shape': 'record'}]\n",
      "[]\n"
     ]
    },
    {
     "ename": "AttributeError",
     "evalue": "'list' object has no attribute 'get_name'",
     "output_type": "error",
     "traceback": [
      "\u001b[0;31m---------------------------------------------------------------------------\u001b[0m",
      "\u001b[0;31mAttributeError\u001b[0m                            Traceback (most recent call last)",
      "\u001b[0;32m<ipython-input-43-3e82e75843f0>\u001b[0m in \u001b[0;36m<module>\u001b[0;34m\u001b[0m\n\u001b[1;32m      2\u001b[0m \u001b[0mprint\u001b[0m\u001b[0;34m(\u001b[0m\u001b[0mdot\u001b[0m\u001b[0;34m.\u001b[0m\u001b[0mget_node_defaults\u001b[0m\u001b[0;34m(\u001b[0m\u001b[0;34m)\u001b[0m\u001b[0;34m)\u001b[0m\u001b[0;34m\u001b[0m\u001b[0;34m\u001b[0m\u001b[0m\n\u001b[1;32m      3\u001b[0m \u001b[0mprint\u001b[0m\u001b[0;34m(\u001b[0m\u001b[0mdot\u001b[0m\u001b[0;34m.\u001b[0m\u001b[0mget_edge_defaults\u001b[0m\u001b[0;34m(\u001b[0m\u001b[0;34m)\u001b[0m\u001b[0;34m)\u001b[0m\u001b[0;34m\u001b[0m\u001b[0;34m\u001b[0m\u001b[0m\n\u001b[0;32m----> 4\u001b[0;31m \u001b[0mdot\u001b[0m\u001b[0;34m.\u001b[0m\u001b[0mget_node\u001b[0m\u001b[0;34m(\u001b[0m\u001b[0;34m'edge'\u001b[0m\u001b[0;34m)\u001b[0m\u001b[0;34m.\u001b[0m\u001b[0mget_name\u001b[0m\u001b[0;34m(\u001b[0m\u001b[0;34m)\u001b[0m\u001b[0;34m\u001b[0m\u001b[0;34m\u001b[0m\u001b[0m\n\u001b[0m",
      "\u001b[0;31mAttributeError\u001b[0m: 'list' object has no attribute 'get_name'"
     ]
    }
   ],
   "source": [
    "#print(dir(dot.get_node('node')[0]))\n",
    "print(dot.get_node_defaults())\n",
    "print(dot.get_edge_defaults())"
   ]
  },
  {
   "cell_type": "code",
   "execution_count": 48,
   "metadata": {},
   "outputs": [
    {
     "name": "stdout",
     "output_type": "stream",
     "text": [
      "[<pydot.Node object at 0x11ddd2fd0>, <pydot.Node object at 0x11dfcc710>, <pydot.Node object at 0x11ddd2080>, <pydot.Node object at 0x11de37da0>]\n",
      "[<pydot.Edge object at 0x11e007780>, <pydot.Edge object at 0x11de6ceb8>, <pydot.Edge object at 0x11e0077b8>]\n"
     ]
    }
   ],
   "source": [
    "print(dot.get_nodes())\n",
    "n1 = dot.get_nodes()[0]\n",
    "print(dot.get_edges())"
   ]
  },
  {
   "cell_type": "code",
   "execution_count": 51,
   "metadata": {},
   "outputs": [
    {
     "data": {
      "text/plain": [
       "'node'"
      ]
     },
     "execution_count": 51,
     "metadata": {},
     "output_type": "execute_result"
    }
   ],
   "source": [
    "n1.get_name()"
   ]
  },
  {
   "cell_type": "code",
   "execution_count": 58,
   "metadata": {},
   "outputs": [
    {
     "name": "stdout",
     "output_type": "stream",
     "text": [
      "{'Portugal': (322.83, 666.0), 'Spain': (322.83, 594.0), 'France': (322.83, 522.0), 'Belgium': (234.83, 450.0), 'Germany': (239.83, 378.0), 'Italy': (396.83, 378.0), 'Netherlands': (52.834, 306.0), 'England': (440.83, 666.0), 'Wales': (408.83, 594.0), 'Scotland': (441.83, 522.0), 'Switzerland': (393.83, 306.0), 'Austria': (340.83, 234.0), 'Czech Republic': (227.83, 162.0), 'Slovakia': (290.83, 90.0), 'Hungary': (337.83, 18.0), 'Denmark': (242.83, 306.0), 'Poland': (221.83, 18.0)}\n"
     ]
    }
   ],
   "source": [
    "import networkx as nx\n",
    "def setup_europe():\n",
    "    G = nx.Graph()\n",
    "\n",
    "    G.add_edge(\"Portugal\", \"Spain\")\n",
    "    G.add_edge(\"Spain\",\"France\")\n",
    "    G.add_edge(\"France\",\"Belgium\")\n",
    "    G.add_edge(\"France\",\"Germany\")\n",
    "    G.add_edge(\"France\",\"Italy\")\n",
    "    G.add_edge(\"Belgium\",\"Netherlands\")\n",
    "    G.add_edge(\"Germany\",\"Belgium\")\n",
    "    G.add_edge(\"Germany\",\"Netherlands\")\n",
    "    G.add_edge(\"England\",\"Wales\")\n",
    "    G.add_edge(\"England\",\"Scotland\")\n",
    "    G.add_edge(\"Scotland\",\"Wales\")\n",
    "    G.add_edge(\"Switzerland\",\"Austria\")\n",
    "    G.add_edge(\"Switzerland\",\"Germany\")\n",
    "    G.add_edge(\"Switzerland\",\"France\")\n",
    "    G.add_edge(\"Switzerland\",\"Italy\")\n",
    "    G.add_edge(\"Austria\",\"Germany\")\n",
    "    G.add_edge(\"Austria\",\"Italy\")\n",
    "    G.add_edge(\"Austria\",\"Czech Republic\")\n",
    "    G.add_edge(\"Austria\",\"Slovakia\")\n",
    "    G.add_edge(\"Austria\",\"Hungary\")\n",
    "    G.add_edge(\"Denmark\",\"Germany\")\n",
    "    G.add_edge(\"Poland\",\"Czech Republic\")\n",
    "    G.add_edge(\"Poland\",\"Slovakia\")\n",
    "    G.add_edge(\"Poland\",\"Germany\")\n",
    "    G.add_edge(\"Czech Republic\",\"Slovakia\")\n",
    "    G.add_edge(\"Czech Republic\",\"Germany\")\n",
    "    G.add_edge(\"Slovakia\",\"Hungary\")\n",
    "    return G\n",
    "\n",
    "G = setup_europe()\n",
    "pos = nx.nx_agraph.graphviz_layout(G, prog = 'dot')\n",
    "print(pos)\n",
    "\n",
    "agraph = nx.nx_agraph.to_agraph(G)\n",
    "agraph.draw(\"europe.png\", format = 'png', prog = 'dot')"
   ]
  },
  {
   "cell_type": "code",
   "execution_count": null,
   "metadata": {},
   "outputs": [],
   "source": []
  }
 ],
 "metadata": {
  "kernelspec": {
   "display_name": "Python 3",
   "language": "python",
   "name": "python3"
  },
  "language_info": {
   "codemirror_mode": {
    "name": "ipython",
    "version": 3
   },
   "file_extension": ".py",
   "mimetype": "text/x-python",
   "name": "python",
   "nbconvert_exporter": "python",
   "pygments_lexer": "ipython3",
   "version": "3.7.3"
  }
 },
 "nbformat": 4,
 "nbformat_minor": 2
}
